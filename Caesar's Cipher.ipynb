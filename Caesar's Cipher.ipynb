{
 "cells": [
  {
   "cell_type": "code",
   "execution_count": 130,
   "id": "baffa993",
   "metadata": {},
   "outputs": [
    {
     "name": "stdout",
     "output_type": "stream",
     "text": [
      "Enter the message you want encrypted: i will get an a in this class\n",
      "Enter the shift: 3\n",
      "l zloo jhw dq d lq wklv fodvv\n",
      "Enter the message you want decrypted: l zloo jhw dq d lq wklv fodvv\n",
      "m ampp kix er e mr xlmw gpeww\n",
      "n bnqq ljy fs f ns ymnx hqfxx\n",
      "o corr mkz gt g ot znoy irgyy\n",
      "p dpss nla hu h pu aopz jshzz\n",
      "q eqtt omb iv i qv bpqa ktiaa\n",
      "r fruu pnc jw j rw cqrb lujbb\n",
      "s gsvv qod kx k sx drsc mvkcc\n",
      "t htww rpe ly l ty estd nwldd\n",
      "u iuxx sqf mz m uz ftue oxmee\n",
      "v jvyy trg na n va guvf pynff\n",
      "w kwzz ush ob o wb hvwg qzogg\n",
      "x lxaa vti pc p xc iwxh raphh\n",
      "y mybb wuj qd q yd jxyi sbqii\n",
      "z nzcc xvk re r ze kyzj tcrjj\n",
      "a oadd ywl sf s af lzak udskk\n",
      "b pbee zxm tg t bg mabl vetll\n",
      "c qcff ayn uh u ch nbcm wfumm\n",
      "d rdgg bzo vi v di ocdn xgvnn\n",
      "e sehh cap wj w ej pdeo yhwoo\n",
      "f tfii dbq xk x fk qefp zixpp\n",
      "g ugjj ecr yl y gl rfgq ajyqq\n",
      "h vhkk fds zm z hm sghr bkzrr\n",
      "i will get an a in this class\n",
      "j xjmm hfu bo b jo uijt dmbtt\n",
      "k yknn igv cp c kp vjku encuu\n",
      "l zloo jhw dq d lq wklv fodvv\n"
     ]
    }
   ],
   "source": [
    "alphabet= \"abcdefghijklmnopqrstuvwxyz\"\n",
    "lettertoindex=dict(zip(alphabet, range(len(alphabet))))\n",
    "indextoletter=dict(zip(range(len(alphabet)), alphabet))\n",
    "\n",
    "text=str(input(\"Enter the message you want encrypted: \"))\n",
    "shiftkey=int(input(\"Enter the shift: \"))\n",
    "\n",
    "def ceasar(text,shiftkey):\n",
    "    cipher=\"\"\n",
    "    for letter in text:\n",
    "        if letter==\" \":\n",
    "            cipher+=\" \"\n",
    "        else:\n",
    "            index= (lettertoindex[letter] + shiftkey) % len(alphabet)\n",
    "            encryptletter=indextoletter[index]\n",
    "            cipher+=encryptletter\n",
    "    return cipher\n",
    "\n",
    "print(ceasar(text, shiftkey))\n",
    "\n",
    "message=str(input(\"Enter the message you want decrypted: \"))\n",
    "\n",
    "for i in range(0,26):\n",
    "    def decode(message,i):\n",
    "        i=i+1\n",
    "        cipher=\"\"\n",
    "        for letter in message:\n",
    "            if letter==\" \":\n",
    "                cipher+=\" \"\n",
    "            else:\n",
    "                index= (lettertoindex[letter] + i) % len(alphabet)\n",
    "                encryptletter=indextoletter[index]\n",
    "                cipher+=encryptletter\n",
    "        return cipher\n",
    "    print(decode(message,i))"
   ]
  },
  {
   "cell_type": "code",
   "execution_count": null,
   "id": "4b68d055",
   "metadata": {},
   "outputs": [],
   "source": []
  }
 ],
 "metadata": {
  "kernelspec": {
   "display_name": "Python 3",
   "language": "python",
   "name": "python3"
  },
  "language_info": {
   "codemirror_mode": {
    "name": "ipython",
    "version": 3
   },
   "file_extension": ".py",
   "mimetype": "text/x-python",
   "name": "python",
   "nbconvert_exporter": "python",
   "pygments_lexer": "ipython3",
   "version": "3.8.8"
  }
 },
 "nbformat": 4,
 "nbformat_minor": 5
}
